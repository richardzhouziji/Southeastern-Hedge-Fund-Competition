{
 "nbformat": 4,
 "nbformat_minor": 2,
 "metadata": {
  "language_info": {
   "name": "python",
   "codemirror_mode": {
    "name": "ipython",
    "version": 3
   },
   "version": "3.7.4-final"
  },
  "orig_nbformat": 2,
  "file_extension": ".py",
  "mimetype": "text/x-python",
  "name": "python",
  "npconvert_exporter": "python",
  "pygments_lexer": "ipython3",
  "version": 3,
  "kernelspec": {
   "name": "python37464bitprogramdatavirtualenv9e5b84e32cd34f1ab85dcb1a48016cee",
   "display_name": "Python 3.7.4 64-bit ('ProgramData': virtualenv)"
  }
 },
 "cells": [
  {
   "cell_type": "code",
   "execution_count": 1,
   "metadata": {},
   "outputs": [],
   "source": [
    "import numpy as np \n",
    "import pandas as pd\n",
    "from datetime import datetime"
   ]
  },
  {
   "cell_type": "code",
   "execution_count": 9,
   "metadata": {},
   "outputs": [
    {
     "data": {
      "text/html": "<div>\n<style scoped>\n    .dataframe tbody tr th:only-of-type {\n        vertical-align: middle;\n    }\n\n    .dataframe tbody tr th {\n        vertical-align: top;\n    }\n\n    .dataframe thead th {\n        text-align: right;\n    }\n</style>\n<table border=\"1\" class=\"dataframe\">\n  <thead>\n    <tr style=\"text-align: right;\">\n      <th></th>\n      <th>Date</th>\n      <th>Corn</th>\n      <th>Coffee</th>\n      <th>Cocoa</th>\n      <th>Live Cattle</th>\n      <th>Cotton</th>\n      <th>Soybean</th>\n      <th>Sugar</th>\n      <th>Wheat</th>\n      <th>Market Volatility</th>\n    </tr>\n  </thead>\n  <tbody>\n    <tr>\n      <td>0</td>\n      <td>20200221</td>\n      <td>377</td>\n      <td>108.85</td>\n      <td>2922.0</td>\n      <td>119.725</td>\n      <td>68.93</td>\n      <td>890.5</td>\n      <td>15.59</td>\n      <td>551</td>\n      <td>17.08</td>\n    </tr>\n    <tr>\n      <td>1</td>\n      <td>20200220</td>\n      <td>378.5</td>\n      <td>103.60</td>\n      <td>2939.0</td>\n      <td>120.100</td>\n      <td>68.75</td>\n      <td>892.75</td>\n      <td>15.40</td>\n      <td>560</td>\n      <td>15.56</td>\n    </tr>\n    <tr>\n      <td>2</td>\n      <td>20200219</td>\n      <td>380.5</td>\n      <td>106.80</td>\n      <td>2925.0</td>\n      <td>121.300</td>\n      <td>68.48</td>\n      <td>897.25</td>\n      <td>15.58</td>\n      <td>565.25</td>\n      <td>14.38</td>\n    </tr>\n    <tr>\n      <td>3</td>\n      <td>20200218</td>\n      <td>383</td>\n      <td>106.55</td>\n      <td>2900.0</td>\n      <td>121.425</td>\n      <td>67.87</td>\n      <td>892.25</td>\n      <td>15.28</td>\n      <td>566.75</td>\n      <td>14.83</td>\n    </tr>\n    <tr>\n      <td>4</td>\n      <td>20200214</td>\n      <td>377.75</td>\n      <td>109.10</td>\n      <td>2904.0</td>\n      <td>120.825</td>\n      <td>67.41</td>\n      <td>893.75</td>\n      <td>15.06</td>\n      <td>542.75</td>\n      <td>13.68</td>\n    </tr>\n    <tr>\n      <td>...</td>\n      <td>...</td>\n      <td>...</td>\n      <td>...</td>\n      <td>...</td>\n      <td>...</td>\n      <td>...</td>\n      <td>...</td>\n      <td>...</td>\n      <td>...</td>\n      <td>...</td>\n    </tr>\n    <tr>\n      <td>1495</td>\n      <td>20140318</td>\n      <td>486.25</td>\n      <td>190.95</td>\n      <td>3014.0</td>\n      <td>145.700</td>\n      <td>92.93</td>\n      <td>1418.25</td>\n      <td>17.14</td>\n      <td>692.5</td>\n      <td>14.52</td>\n    </tr>\n    <tr>\n      <td>1496</td>\n      <td>20140317</td>\n      <td>479</td>\n      <td>189.90</td>\n      <td>3030.0</td>\n      <td>145.025</td>\n      <td>92.03</td>\n      <td>1391.75</td>\n      <td>17.05</td>\n      <td>674.5</td>\n      <td>15.64</td>\n    </tr>\n    <tr>\n      <td>1497</td>\n      <td>20140314</td>\n      <td>472.25</td>\n      <td>197.85</td>\n      <td>2997.0</td>\n      <td>145.250</td>\n      <td>92.19</td>\n      <td>1376</td>\n      <td>17.25</td>\n      <td>690.25</td>\n      <td>17.82</td>\n    </tr>\n    <tr>\n      <td>1498</td>\n      <td>20140313</td>\n      <td>484.25</td>\n      <td>205.05</td>\n      <td>3011.0</td>\n      <td>143.625</td>\n      <td>91.68</td>\n      <td>1390.75</td>\n      <td>17.82</td>\n      <td>679</td>\n      <td>16.22</td>\n    </tr>\n    <tr>\n      <td>1499</td>\n      <td>20140312</td>\n      <td>484.25</td>\n      <td>204.80</td>\n      <td>2954.0</td>\n      <td>143.875</td>\n      <td>92.20</td>\n      <td>1381.75</td>\n      <td>17.67</td>\n      <td>688</td>\n      <td>14.47</td>\n    </tr>\n  </tbody>\n</table>\n<p>1500 rows × 10 columns</p>\n</div>",
      "text/plain": "          Date    Corn  Coffee   Cocoa  Live Cattle  Cotton  Soybean  Sugar  \\\n0     20200221     377  108.85  2922.0      119.725   68.93    890.5  15.59   \n1     20200220   378.5  103.60  2939.0      120.100   68.75   892.75  15.40   \n2     20200219   380.5  106.80  2925.0      121.300   68.48   897.25  15.58   \n3     20200218     383  106.55  2900.0      121.425   67.87   892.25  15.28   \n4     20200214  377.75  109.10  2904.0      120.825   67.41   893.75  15.06   \n...        ...     ...     ...     ...          ...     ...      ...    ...   \n1495  20140318  486.25  190.95  3014.0      145.700   92.93  1418.25  17.14   \n1496  20140317     479  189.90  3030.0      145.025   92.03  1391.75  17.05   \n1497  20140314  472.25  197.85  2997.0      145.250   92.19     1376  17.25   \n1498  20140313  484.25  205.05  3011.0      143.625   91.68  1390.75  17.82   \n1499  20140312  484.25  204.80  2954.0      143.875   92.20  1381.75  17.67   \n\n       Wheat  Market Volatility  \n0        551              17.08  \n1        560              15.56  \n2     565.25              14.38  \n3     566.75              14.83  \n4     542.75              13.68  \n...      ...                ...  \n1495   692.5              14.52  \n1496   674.5              15.64  \n1497  690.25              17.82  \n1498     679              16.22  \n1499     688              14.47  \n\n[1500 rows x 10 columns]"
     },
     "execution_count": 9,
     "metadata": {},
     "output_type": "execute_result"
    }
   ],
   "source": [
    "agri_dt"
   ]
  },
  {
   "cell_type": "code",
   "execution_count": 8,
   "metadata": {},
   "outputs": [],
   "source": [
    "agri_dt = pd.read_csv('Agriculture.csv', skiprows=1).iloc[:1500]\n",
    "agri_dt.columns = ['Date', 'Corn', 'Coffee', 'Cocoa', 'Live Cattle', 'Cotton', 'Soybean', 'Sugar', 'Wheat', 'Market Volatility']\n",
    "agri_dt['Date'] = agri_dt['Date'].apply(lambda x: datetime.strptime(x, '%m/%d/%Y').strftime(\"%Y%m%d\"))\n",
    "\n",
    "def rep_fraction(s):\n",
    "    s = str(s)\n",
    "    rep_dict = {' 1/4':'.25', ' 1/2':'.5', ' 3/4': '.75'}\n",
    "    for key in rep_dict.keys():\n",
    "        s = s.replace(key, rep_dict[key])\n",
    "    return s\n",
    "\n",
    "agri_dt['Corn'] = agri_dt['Corn'].apply(rep_fraction)\n",
    "agri_dt['Soybean'] = agri_dt['Soybean'].apply(rep_fraction)\n",
    "agri_dt['Wheat'] = agri_dt['Wheat'].apply(rep_fraction)\n",
    "agri_dt = agri_dt.interpolate()"
   ]
  },
  {
   "cell_type": "code",
   "execution_count": 10,
   "metadata": {},
   "outputs": [
    {
     "data": {
      "text/html": "<div>\n<style scoped>\n    .dataframe tbody tr th:only-of-type {\n        vertical-align: middle;\n    }\n\n    .dataframe tbody tr th {\n        vertical-align: top;\n    }\n\n    .dataframe thead th {\n        text-align: right;\n    }\n</style>\n<table border=\"1\" class=\"dataframe\">\n  <thead>\n    <tr style=\"text-align: right;\">\n      <th></th>\n      <th>Date</th>\n      <th>Corn</th>\n      <th>Coffee</th>\n      <th>Cocoa</th>\n      <th>Live Cattle</th>\n      <th>Cotton</th>\n      <th>Soybean</th>\n      <th>Sugar</th>\n      <th>Wheat</th>\n      <th>Market Volatility</th>\n    </tr>\n  </thead>\n  <tbody>\n    <tr>\n      <td>0</td>\n      <td>20200221</td>\n      <td>377</td>\n      <td>108.85</td>\n      <td>2922.0</td>\n      <td>119.725</td>\n      <td>68.93</td>\n      <td>890.5</td>\n      <td>15.59</td>\n      <td>551</td>\n      <td>17.08</td>\n    </tr>\n    <tr>\n      <td>1</td>\n      <td>20200220</td>\n      <td>378.5</td>\n      <td>103.60</td>\n      <td>2939.0</td>\n      <td>120.100</td>\n      <td>68.75</td>\n      <td>892.75</td>\n      <td>15.40</td>\n      <td>560</td>\n      <td>15.56</td>\n    </tr>\n    <tr>\n      <td>2</td>\n      <td>20200219</td>\n      <td>380.5</td>\n      <td>106.80</td>\n      <td>2925.0</td>\n      <td>121.300</td>\n      <td>68.48</td>\n      <td>897.25</td>\n      <td>15.58</td>\n      <td>565.25</td>\n      <td>14.38</td>\n    </tr>\n    <tr>\n      <td>3</td>\n      <td>20200218</td>\n      <td>383</td>\n      <td>106.55</td>\n      <td>2900.0</td>\n      <td>121.425</td>\n      <td>67.87</td>\n      <td>892.25</td>\n      <td>15.28</td>\n      <td>566.75</td>\n      <td>14.83</td>\n    </tr>\n    <tr>\n      <td>4</td>\n      <td>20200214</td>\n      <td>377.75</td>\n      <td>109.10</td>\n      <td>2904.0</td>\n      <td>120.825</td>\n      <td>67.41</td>\n      <td>893.75</td>\n      <td>15.06</td>\n      <td>542.75</td>\n      <td>13.68</td>\n    </tr>\n  </tbody>\n</table>\n</div>",
      "text/plain": "       Date    Corn  Coffee   Cocoa  Live Cattle  Cotton Soybean  Sugar  \\\n0  20200221     377  108.85  2922.0      119.725   68.93   890.5  15.59   \n1  20200220   378.5  103.60  2939.0      120.100   68.75  892.75  15.40   \n2  20200219   380.5  106.80  2925.0      121.300   68.48  897.25  15.58   \n3  20200218     383  106.55  2900.0      121.425   67.87  892.25  15.28   \n4  20200214  377.75  109.10  2904.0      120.825   67.41  893.75  15.06   \n\n    Wheat  Market Volatility  \n0     551              17.08  \n1     560              15.56  \n2  565.25              14.38  \n3  566.75              14.83  \n4  542.75              13.68  "
     },
     "execution_count": 10,
     "metadata": {},
     "output_type": "execute_result"
    }
   ],
   "source": [
    "agri_dt.head()"
   ]
  },
  {
   "cell_type": "code",
   "execution_count": 11,
   "metadata": {},
   "outputs": [],
   "source": [
    "agri_dt.to_csv('clean_argiculture.csv', index=False)"
   ]
  },
  {
   "cell_type": "code",
   "execution_count": 10,
   "metadata": {},
   "outputs": [],
   "source": [
    "columns = ['Unnamed: 0', 'US High Yied', 'US Investment Grade',\n",
    "       'Emerging Investment Grade', 'Emerging High Yield OAS', \n",
    "       'Emerging Investment Grade OAS', 'US High Yield OAS', \n",
    "       'US Investment Grade OAS', 'US 10 Year -2 Year Gov Spread']\n",
    "\n",
    "bi_dt = pd.read_csv('Bond Index.csv', skiprows=1)[columns]\n",
    "columns[0] = 'Date'\n",
    "bi_dt.columns = columns\n",
    "bi_dt['Date'] = bi_dt['Date'].apply(lambda x: datetime.strptime(x, '%m/%d/%Y').strftime(\"%Y%m%d\"))\n",
    "bi_dt = bi_dt.interpolate()"
   ]
  },
  {
   "cell_type": "code",
   "execution_count": 11,
   "metadata": {},
   "outputs": [
    {
     "data": {
      "text/html": "<div>\n<style scoped>\n    .dataframe tbody tr th:only-of-type {\n        vertical-align: middle;\n    }\n\n    .dataframe tbody tr th {\n        vertical-align: top;\n    }\n\n    .dataframe thead th {\n        text-align: right;\n    }\n</style>\n<table border=\"1\" class=\"dataframe\">\n  <thead>\n    <tr style=\"text-align: right;\">\n      <th></th>\n      <th>Date</th>\n      <th>US High Yied</th>\n      <th>US Investment Grade</th>\n      <th>Emerging Investment Grade</th>\n      <th>Emerging High Yield OAS</th>\n      <th>Emerging Investment Grade OAS</th>\n      <th>US High Yield OAS</th>\n      <th>US Investment Grade OAS</th>\n      <th>US 10 Year -2 Year Gov Spread</th>\n    </tr>\n  </thead>\n  <tbody>\n    <tr>\n      <td>0</td>\n      <td>20200204</td>\n      <td>2188.9700</td>\n      <td>204.39</td>\n      <td>526.8440</td>\n      <td>6.39</td>\n      <td>1.36</td>\n      <td>3.72</td>\n      <td>1.10</td>\n      <td>18.4134</td>\n    </tr>\n    <tr>\n      <td>1</td>\n      <td>20200203</td>\n      <td>2184.9099</td>\n      <td>205.32</td>\n      <td>528.2544</td>\n      <td>6.55</td>\n      <td>1.40</td>\n      <td>3.83</td>\n      <td>1.13</td>\n      <td>16.8204</td>\n    </tr>\n    <tr>\n      <td>2</td>\n      <td>20200131</td>\n      <td>2183.3501</td>\n      <td>205.17</td>\n      <td>528.2468</td>\n      <td>6.53</td>\n      <td>1.40</td>\n      <td>3.90</td>\n      <td>1.13</td>\n      <td>18.7634</td>\n    </tr>\n    <tr>\n      <td>3</td>\n      <td>20200130</td>\n      <td>2183.6799</td>\n      <td>204.89</td>\n      <td>527.2715</td>\n      <td>6.48</td>\n      <td>1.39</td>\n      <td>3.82</td>\n      <td>1.11</td>\n      <td>16.8845</td>\n    </tr>\n    <tr>\n      <td>4</td>\n      <td>20200129</td>\n      <td>2187.2000</td>\n      <td>204.86</td>\n      <td>526.5925</td>\n      <td>6.38</td>\n      <td>1.38</td>\n      <td>3.71</td>\n      <td>1.09</td>\n      <td>16.5184</td>\n    </tr>\n  </tbody>\n</table>\n</div>",
      "text/plain": "       Date  US High Yied  US Investment Grade  Emerging Investment Grade  \\\n0  20200204     2188.9700               204.39                   526.8440   \n1  20200203     2184.9099               205.32                   528.2544   \n2  20200131     2183.3501               205.17                   528.2468   \n3  20200130     2183.6799               204.89                   527.2715   \n4  20200129     2187.2000               204.86                   526.5925   \n\n   Emerging High Yield OAS  Emerging Investment Grade OAS  US High Yield OAS  \\\n0                     6.39                           1.36               3.72   \n1                     6.55                           1.40               3.83   \n2                     6.53                           1.40               3.90   \n3                     6.48                           1.39               3.82   \n4                     6.38                           1.38               3.71   \n\n   US Investment Grade OAS  US 10 Year -2 Year Gov Spread  \n0                     1.10                        18.4134  \n1                     1.13                        16.8204  \n2                     1.13                        18.7634  \n3                     1.11                        16.8845  \n4                     1.09                        16.5184  "
     },
     "execution_count": 11,
     "metadata": {},
     "output_type": "execute_result"
    }
   ],
   "source": [
    "bi_dt.head()"
   ]
  },
  {
   "cell_type": "code",
   "execution_count": 12,
   "metadata": {},
   "outputs": [],
   "source": [
    "bi_dt.to_csv('clean_bondindex.csv', index=False)"
   ]
  },
  {
   "cell_type": "code",
   "execution_count": 13,
   "metadata": {},
   "outputs": [
    {
     "data": {
      "text/html": "<div>\n<style scoped>\n    .dataframe tbody tr th:only-of-type {\n        vertical-align: middle;\n    }\n\n    .dataframe tbody tr th {\n        vertical-align: top;\n    }\n\n    .dataframe thead th {\n        text-align: right;\n    }\n</style>\n<table border=\"1\" class=\"dataframe\">\n  <thead>\n    <tr style=\"text-align: right;\">\n      <th></th>\n      <th>Date</th>\n      <th>USDZAR BGN Curncy  (L4)</th>\n      <th>USDTWD Curncy  (R4)</th>\n      <th>USDTRY Curncy  (L3)</th>\n      <th>USDSGD Curncy  (L1)</th>\n      <th>USDSEK Curncy  (R3)</th>\n      <th>USDRUB Curncy  (R1)</th>\n      <th>USDPLN Curncy  (R2)</th>\n      <th>USDPEN Curncy  (R2)</th>\n      <th>USDNOK Curncy  (R3)</th>\n      <th>...</th>\n      <th>USDCOP Curncy  (R1)</th>\n      <th>USDCNY Curncy  (L2)</th>\n      <th>USDCLP Curncy  (R1)</th>\n      <th>USDCHF Curncy  (L1)</th>\n      <th>USDCAD Curncy  (L1)</th>\n      <th>USDBRL Curncy  (L2)</th>\n      <th>USDARS Curncy  (R1)</th>\n      <th>NZDUSD Curncy  (L1)</th>\n      <th>GBPUSD Curncy  (R2)</th>\n      <th>EURUSD Curncy  (L1)</th>\n    </tr>\n  </thead>\n  <tbody>\n    <tr>\n      <td>0</td>\n      <td>20200205</td>\n      <td>14.7840</td>\n      <td>30.120</td>\n      <td>5.9826</td>\n      <td>1.3818</td>\n      <td>9.5819</td>\n      <td>62.9364</td>\n      <td>3.8578</td>\n      <td>3.3622</td>\n      <td>9.2122</td>\n      <td>...</td>\n      <td>3362.3701</td>\n      <td>6.973400</td>\n      <td>778.17</td>\n      <td>0.9733</td>\n      <td>1.3287</td>\n      <td>4.2564</td>\n      <td>60.5894</td>\n      <td>0.6473</td>\n      <td>1.2999</td>\n      <td>1.1001</td>\n    </tr>\n    <tr>\n      <td>1</td>\n      <td>20200204</td>\n      <td>14.7831</td>\n      <td>30.195</td>\n      <td>5.9805</td>\n      <td>1.3704</td>\n      <td>9.5890</td>\n      <td>63.0129</td>\n      <td>3.8713</td>\n      <td>3.3630</td>\n      <td>9.2107</td>\n      <td>...</td>\n      <td>3361.2700</td>\n      <td>6.998400</td>\n      <td>781.50</td>\n      <td>0.9692</td>\n      <td>1.3277</td>\n      <td>4.2543</td>\n      <td>60.5842</td>\n      <td>0.6490</td>\n      <td>1.3031</td>\n      <td>1.1044</td>\n    </tr>\n    <tr>\n      <td>2</td>\n      <td>20200203</td>\n      <td>14.8843</td>\n      <td>30.295</td>\n      <td>5.9850</td>\n      <td>1.3686</td>\n      <td>9.6492</td>\n      <td>63.6779</td>\n      <td>3.8859</td>\n      <td>3.3721</td>\n      <td>9.2759</td>\n      <td>...</td>\n      <td>3396.9600</td>\n      <td>7.021500</td>\n      <td>788.79</td>\n      <td>0.9659</td>\n      <td>1.3286</td>\n      <td>4.2466</td>\n      <td>60.4630</td>\n      <td>0.6462</td>\n      <td>1.2995</td>\n      <td>1.1060</td>\n    </tr>\n    <tr>\n      <td>3</td>\n      <td>20200131</td>\n      <td>15.0282</td>\n      <td>30.241</td>\n      <td>5.9829</td>\n      <td>1.3648</td>\n      <td>9.6248</td>\n      <td>63.9613</td>\n      <td>3.8740</td>\n      <td>3.3849</td>\n      <td>9.2011</td>\n      <td>...</td>\n      <td>3420.5701</td>\n      <td>7.003067</td>\n      <td>800.54</td>\n      <td>0.9634</td>\n      <td>1.3237</td>\n      <td>4.2828</td>\n      <td>60.3470</td>\n      <td>0.6464</td>\n      <td>1.3206</td>\n      <td>1.1093</td>\n    </tr>\n    <tr>\n      <td>4</td>\n      <td>20200130</td>\n      <td>14.7648</td>\n      <td>30.271</td>\n      <td>5.9696</td>\n      <td>1.3623</td>\n      <td>9.6358</td>\n      <td>63.2030</td>\n      <td>3.8923</td>\n      <td>3.3674</td>\n      <td>9.1810</td>\n      <td>...</td>\n      <td>3414.8000</td>\n      <td>6.984633</td>\n      <td>796.19</td>\n      <td>0.9695</td>\n      <td>1.3209</td>\n      <td>4.2475</td>\n      <td>60.2513</td>\n      <td>0.6488</td>\n      <td>1.3093</td>\n      <td>1.1032</td>\n    </tr>\n  </tbody>\n</table>\n<p>5 rows × 31 columns</p>\n</div>",
      "text/plain": "       Date  USDZAR BGN Curncy  (L4)  USDTWD Curncy  (R4)  \\\n0  20200205                  14.7840               30.120   \n1  20200204                  14.7831               30.195   \n2  20200203                  14.8843               30.295   \n3  20200131                  15.0282               30.241   \n4  20200130                  14.7648               30.271   \n\n   USDTRY Curncy  (L3)  USDSGD Curncy  (L1)  USDSEK Curncy  (R3)  \\\n0               5.9826               1.3818               9.5819   \n1               5.9805               1.3704               9.5890   \n2               5.9850               1.3686               9.6492   \n3               5.9829               1.3648               9.6248   \n4               5.9696               1.3623               9.6358   \n\n   USDRUB Curncy  (R1)  USDPLN Curncy  (R2)  USDPEN Curncy  (R2)  \\\n0              62.9364               3.8578               3.3622   \n1              63.0129               3.8713               3.3630   \n2              63.6779               3.8859               3.3721   \n3              63.9613               3.8740               3.3849   \n4              63.2030               3.8923               3.3674   \n\n   USDNOK Curncy  (R3)  ...  USDCOP Curncy  (R1)  USDCNY Curncy  (L2)  \\\n0               9.2122  ...            3362.3701             6.973400   \n1               9.2107  ...            3361.2700             6.998400   \n2               9.2759  ...            3396.9600             7.021500   \n3               9.2011  ...            3420.5701             7.003067   \n4               9.1810  ...            3414.8000             6.984633   \n\n   USDCLP Curncy  (R1)  USDCHF Curncy  (L1)  USDCAD Curncy  (L1)  \\\n0               778.17               0.9733               1.3287   \n1               781.50               0.9692               1.3277   \n2               788.79               0.9659               1.3286   \n3               800.54               0.9634               1.3237   \n4               796.19               0.9695               1.3209   \n\n   USDBRL Curncy  (L2)  USDARS Curncy  (R1)  NZDUSD Curncy  (L1)  \\\n0               4.2564              60.5894               0.6473   \n1               4.2543              60.5842               0.6490   \n2               4.2466              60.4630               0.6462   \n3               4.2828              60.3470               0.6464   \n4               4.2475              60.2513               0.6488   \n\n   GBPUSD Curncy  (R2)  EURUSD Curncy  (L1)  \n0               1.2999               1.1001  \n1               1.3031               1.1044  \n2               1.2995               1.1060  \n3               1.3206               1.1093  \n4               1.3093               1.1032  \n\n[5 rows x 31 columns]"
     },
     "execution_count": 13,
     "metadata": {},
     "output_type": "execute_result"
    }
   ],
   "source": [
    "cur_dt = pd.read_csv('Currency.csv').iloc[:1500].interpolate()\n",
    "cur_dt['Date'] = cur_dt['Date'].apply(lambda x: datetime.strptime(x, '%m/%d/%Y').strftime(\"%Y%m%d\"))\n",
    "cur_dt.head()"
   ]
  },
  {
   "cell_type": "code",
   "execution_count": 14,
   "metadata": {},
   "outputs": [],
   "source": [
    "cur_dt.to_csv('clean_currency.csv', index=False)"
   ]
  },
  {
   "cell_type": "code",
   "execution_count": 15,
   "metadata": {},
   "outputs": [
    {
     "data": {
      "text/html": "<div>\n<style scoped>\n    .dataframe tbody tr th:only-of-type {\n        vertical-align: middle;\n    }\n\n    .dataframe tbody tr th {\n        vertical-align: top;\n    }\n\n    .dataframe thead th {\n        text-align: right;\n    }\n</style>\n<table border=\"1\" class=\"dataframe\">\n  <thead>\n    <tr style=\"text-align: right;\">\n      <th></th>\n      <th>Date</th>\n      <th>Crude Oil</th>\n      <th>Natural Gas</th>\n      <th>Aluminum</th>\n      <th>Copper</th>\n      <th>Gold</th>\n      <th>Nickel</th>\n      <th>Silver</th>\n    </tr>\n  </thead>\n  <tbody>\n    <tr>\n      <td>0</td>\n      <td>20200204</td>\n      <td>49.61</td>\n      <td>1.872</td>\n      <td>1686.0</td>\n      <td>5618.0</td>\n      <td>1552.92</td>\n      <td>12830.0</td>\n      <td>17.5945</td>\n    </tr>\n    <tr>\n      <td>1</td>\n      <td>20200203</td>\n      <td>50.11</td>\n      <td>1.819</td>\n      <td>1686.5</td>\n      <td>5525.0</td>\n      <td>1576.73</td>\n      <td>12725.0</td>\n      <td>17.6822</td>\n    </tr>\n    <tr>\n      <td>2</td>\n      <td>20200131</td>\n      <td>51.56</td>\n      <td>1.841</td>\n      <td>1722.0</td>\n      <td>5567.0</td>\n      <td>1589.16</td>\n      <td>12850.0</td>\n      <td>18.0425</td>\n    </tr>\n    <tr>\n      <td>3</td>\n      <td>20200130</td>\n      <td>52.14</td>\n      <td>1.829</td>\n      <td>1731.0</td>\n      <td>5587.5</td>\n      <td>1574.28</td>\n      <td>12620.0</td>\n      <td>17.8398</td>\n    </tr>\n    <tr>\n      <td>4</td>\n      <td>20200129</td>\n      <td>53.33</td>\n      <td>1.865</td>\n      <td>1737.0</td>\n      <td>5641.0</td>\n      <td>1576.83</td>\n      <td>12550.0</td>\n      <td>17.5585</td>\n    </tr>\n  </tbody>\n</table>\n</div>",
      "text/plain": "       Date  Crude Oil  Natural Gas  Aluminum  Copper     Gold   Nickel  \\\n0  20200204      49.61        1.872    1686.0  5618.0  1552.92  12830.0   \n1  20200203      50.11        1.819    1686.5  5525.0  1576.73  12725.0   \n2  20200131      51.56        1.841    1722.0  5567.0  1589.16  12850.0   \n3  20200130      52.14        1.829    1731.0  5587.5  1574.28  12620.0   \n4  20200129      53.33        1.865    1737.0  5641.0  1576.83  12550.0   \n\n    Silver  \n0  17.5945  \n1  17.6822  \n2  18.0425  \n3  17.8398  \n4  17.5585  "
     },
     "execution_count": 15,
     "metadata": {},
     "output_type": "execute_result"
    }
   ],
   "source": [
    "em_dt = pd.read_csv('Energy _ Metals.csv', skiprows=1).iloc[:1500].interpolate()\n",
    "em_dt.columns = ['Date', 'Crude Oil', 'Natural Gas', 'Aluminum', 'Copper', 'Gold', 'Nickel', 'Silver']\n",
    "em_dt['Date'] = em_dt['Date'].apply(lambda x: datetime.strptime(x, '%m/%d/%Y').strftime(\"%Y%m%d\"))\n",
    "em_dt.head()"
   ]
  },
  {
   "cell_type": "code",
   "execution_count": 16,
   "metadata": {},
   "outputs": [],
   "source": [
    "em_dt.to_csv('clean_energy_metals.csv', index=False)"
   ]
  },
  {
   "cell_type": "code",
   "execution_count": 22,
   "metadata": {},
   "outputs": [],
   "source": [
    "sp500 = pd.read_csv('S&P_500.csv')[['Date', 'Open', 'High', 'Low', 'Adj Close', 'Volume']]\n",
    "sp500['Date'] = sp500['Date'].apply(lambda x: datetime.strptime(x, '%m/%d/%Y').strftime(\"%Y%m%d\"))\n",
    "sp500.columns = ['trade_date', 'open', 'high', 'low', 'close', 'vol']\n",
    "sp500.trade_date = sp500.trade_date.astype('str')"
   ]
  },
  {
   "cell_type": "code",
   "execution_count": 23,
   "metadata": {},
   "outputs": [
    {
     "data": {
      "text/html": "<div>\n<style scoped>\n    .dataframe tbody tr th:only-of-type {\n        vertical-align: middle;\n    }\n\n    .dataframe tbody tr th {\n        vertical-align: top;\n    }\n\n    .dataframe thead th {\n        text-align: right;\n    }\n</style>\n<table border=\"1\" class=\"dataframe\">\n  <thead>\n    <tr style=\"text-align: right;\">\n      <th></th>\n      <th>trade_date</th>\n      <th>open</th>\n      <th>high</th>\n      <th>low</th>\n      <th>close</th>\n      <th>vol</th>\n    </tr>\n  </thead>\n  <tbody>\n    <tr>\n      <td>0</td>\n      <td>20200110</td>\n      <td>3281.810059</td>\n      <td>3282.989990</td>\n      <td>3260.860107</td>\n      <td>3265.350098</td>\n      <td>1631680402</td>\n    </tr>\n    <tr>\n      <td>1</td>\n      <td>20200109</td>\n      <td>3266.030029</td>\n      <td>3275.580078</td>\n      <td>3263.669922</td>\n      <td>3274.699951</td>\n      <td>3638390000</td>\n    </tr>\n    <tr>\n      <td>2</td>\n      <td>20200108</td>\n      <td>3238.590088</td>\n      <td>3267.070068</td>\n      <td>3236.669922</td>\n      <td>3253.050049</td>\n      <td>3720890000</td>\n    </tr>\n    <tr>\n      <td>3</td>\n      <td>20200107</td>\n      <td>3241.860107</td>\n      <td>3244.909912</td>\n      <td>3232.429932</td>\n      <td>3237.179932</td>\n      <td>3420380000</td>\n    </tr>\n    <tr>\n      <td>4</td>\n      <td>20200106</td>\n      <td>3217.550049</td>\n      <td>3246.840088</td>\n      <td>3214.639893</td>\n      <td>3246.280029</td>\n      <td>3674070000</td>\n    </tr>\n  </tbody>\n</table>\n</div>",
      "text/plain": "  trade_date         open         high          low        close         vol\n0   20200110  3281.810059  3282.989990  3260.860107  3265.350098  1631680402\n1   20200109  3266.030029  3275.580078  3263.669922  3274.699951  3638390000\n2   20200108  3238.590088  3267.070068  3236.669922  3253.050049  3720890000\n3   20200107  3241.860107  3244.909912  3232.429932  3237.179932  3420380000\n4   20200106  3217.550049  3246.840088  3214.639893  3246.280029  3674070000"
     },
     "execution_count": 23,
     "metadata": {},
     "output_type": "execute_result"
    }
   ],
   "source": [
    "sp500.head()"
   ]
  },
  {
   "cell_type": "code",
   "execution_count": 25,
   "metadata": {},
   "outputs": [],
   "source": [
    "sp500.to_csv('sp500.csv', index=False)"
   ]
  },
  {
   "cell_type": "code",
   "execution_count": null,
   "metadata": {},
   "outputs": [],
   "source": []
  }
 ]
}